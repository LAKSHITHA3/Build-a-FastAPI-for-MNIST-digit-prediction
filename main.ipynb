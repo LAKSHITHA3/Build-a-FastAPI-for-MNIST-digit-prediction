{
 "cells": [
  {
   "cell_type": "code",
   "execution_count": null,
   "id": "ec9d5177",
   "metadata": {},
   "outputs": [],
   "source": [
    "from fastapi import FastAPI, File, UploadFile\n",
    "from fastapi.responses import JSONResponse\n",
    "from keras.models import load_model as keras_load_model\n",
    "from keras.src.engine.sequential import Sequential\n",
    "from PIL import Image\n",
    "import numpy as np\n",
    "import io\n",
    "import sys\n",
    "\n",
    "app = FastAPI()\n",
    "\n",
    "# Load the model from the given path\n",
    "def load_model(path: str) -> Sequential:\n",
    "    return keras_load_model(path)\n",
    "\n",
    "# Predict the digit from the image data\n",
    "def predict_digit(model: Sequential, data_point: list) -> str:\n",
    "    data = np.array(data_point).reshape(1, 28, 28, 1)\n",
    "    prediction = model.predict(data)\n",
    "    digit = np.argmax(prediction)\n",
    "    return str(digit)\n",
    "\n",
    "# Format the image to a 28x28 grayscale array\n",
    "def format_image(image_bytes: bytes) -> list:\n",
    "    image = Image.open(io.BytesIO(image_bytes)).convert('L')\n",
    "    image = image.resize((28, 28))\n",
    "    image_array = np.array(image).astype('float32') / 255\n",
    "    serialized_array = image_array.flatten().tolist()\n",
    "    return serialized_array\n",
    "\n",
    "# API endpoint to predict the digit\n",
    "@app.post('/predict')\n",
    "async def predict(file: UploadFile = File(...)):\n",
    "    image_bytes = await file.read()\n",
    "    data_point = format_image(image_bytes)\n",
    "    digit = predict_digit(model, data_point)\n",
    "    return JSONResponse(content={\"digit\": digit})\n",
    "\n",
    "if __name__ == \"__main__\":\n",
    "    model_path = sys.argv[1]  # Path to the model passed as command line argument\n",
    "    model = load_model(model_path)\n",
    "    uvicorn.run(app, host=\"0.0.0.0\", port=8000)\n"
   ]
  }
 ],
 "metadata": {
  "kernelspec": {
   "display_name": "Python 3 (ipykernel)",
   "language": "python",
   "name": "python3"
  },
  "language_info": {
   "codemirror_mode": {
    "name": "ipython",
    "version": 3
   },
   "file_extension": ".py",
   "mimetype": "text/x-python",
   "name": "python",
   "nbconvert_exporter": "python",
   "pygments_lexer": "ipython3",
   "version": "3.9.5"
  }
 },
 "nbformat": 4,
 "nbformat_minor": 5
}
